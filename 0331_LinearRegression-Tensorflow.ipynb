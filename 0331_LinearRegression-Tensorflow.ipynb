{
 "cells": [
  {
   "cell_type": "code",
   "execution_count": 1,
   "id": "9ad162df",
   "metadata": {},
   "outputs": [
    {
     "name": "stdout",
     "output_type": "stream",
     "text": [
      "WARNING:tensorflow:From C:\\Users\\Public\\Documents\\ESTsoft\\CreatorTemp\\ipykernel_24940\\3261009375.py:14: The name tf.Session is deprecated. Please use tf.compat.v1.Session instead.\n",
      "\n",
      "10.0\n",
      "40.0\n",
      "[10.0, 40.0]\n"
     ]
    }
   ],
   "source": [
    "# tensorflow에 대해서 알아보자!\n",
    "\n",
    "import tensorflow as tf\n",
    "\n",
    "# 상수 node를 만든다.\n",
    "# node인데 상수 값을 가지고 있는 node\n",
    "node1 = tf.constant(10, dtype=tf.float32)\n",
    "node2 = tf.constant(30, dtype=tf.float32)\n",
    "\n",
    "node3 = node1 + node2\n",
    "\n",
    "# Session이라는 게 필요하다! => 그래프를 실행시키기 위해서!\n",
    "# 그래프를 실행시켜주는 주체\n",
    "sess = tf.Session()\n",
    "\n",
    "# 노드를 실행해야 노드가 가지고 있는 값이 나온다.\n",
    "print(sess.run(node1))   # graph를 실행시킨다! -> node1을 실행\n",
    "\n",
    "print(sess.run(node3))   # graph를 실행시킨다! -> node3을 실행\n",
    "# node3는 node1과 node2가 연결되어 있어서\n",
    "# node3을 실행시키면 node1, node2가 같이 실행된다.\n",
    "# 그리고 결과 값으로 node1 + node2인 40을 출력\n",
    "\n",
    "print(sess.run([node1, node3]))\n",
    "# 여러개의 노드를 실행시키려면 node를 list로 묶는다.\n"
   ]
  },
  {
   "cell_type": "code",
   "execution_count": 3,
   "id": "6726f2cb",
   "metadata": {},
   "outputs": [
    {
     "name": "stdout",
     "output_type": "stream",
     "text": [
      "40.0\n"
     ]
    }
   ],
   "source": [
    "# 현재 tensorflow 버전은 1.15 버전이다!\n",
    "\n",
    "import tensorflow as tf\n",
    "\n",
    "node1 = tf.placeholder(dtype=tf.float32)   # scalar\n",
    "# shape을 명시해주지 않으면 scalar를 대상으로 한다.\n",
    "# 만약 다차원데이터가 입력되려면 shape을 지정해줘야 한다.\n",
    "\n",
    "node2 = tf.placeholder(dtype=tf.float32)\n",
    "\n",
    "node3 = node1 + node2\n",
    "\n",
    "sess = tf.Session()\n",
    "\n",
    "# 먹이를 주지 않고 실행하면 에러가 난다.\n",
    "# node1과 node2의 값이 없기 때문\n",
    "# 그래서 dictionary 형태로 먹이를 준다.\n",
    "result = sess.run(node3, feed_dict={node1: 10,\n",
    "                                    node2: 30})\n",
    "print(result)"
   ]
  },
  {
   "cell_type": "code",
   "execution_count": 7,
   "id": "f88c2822",
   "metadata": {},
   "outputs": [
    {
     "name": "stdout",
     "output_type": "stream",
     "text": [
      "W : [[ 0.4404185 ]\n",
      " [-0.29963538]\n",
      " [ 0.05776295]], b : [0.07889124], loss : 22021.984375\n",
      "W : [[0.9928354]\n",
      " [0.3152069]\n",
      " [0.7173451]], b : [0.08618753], loss : 14.133596420288086\n",
      "W : [[0.94643795]\n",
      " [0.3245982 ]\n",
      " [0.7532662 ]], b : [0.08596402], loss : 12.955582618713379\n",
      "W : [[0.90339094]\n",
      " [0.33410728]\n",
      " [0.7858133 ]], b : [0.0857405], loss : 11.954911231994629\n",
      "W : [[0.86343884]\n",
      " [0.34369418]\n",
      " [0.8152794 ]], b : [0.08551698], loss : 11.103924751281738\n",
      "W : [[0.82657564]\n",
      " [0.35299972]\n",
      " [0.8420019 ]], b : [0.08529346], loss : 10.382430076599121\n",
      "W : [[0.7924041 ]\n",
      " [0.3621382 ]\n",
      " [0.86629754]], b : [0.08506995], loss : 9.76748275756836\n",
      "W : [[0.76078975]\n",
      " [0.37093526]\n",
      " [0.8884322 ]], b : [0.08484643], loss : 9.243639945983887\n",
      "W : [[0.7314452 ]\n",
      " [0.37950936]\n",
      " [0.9085687 ]], b : [0.08462291], loss : 8.796031951904297\n",
      "W : [[0.70417684]\n",
      " [0.38790902]\n",
      " [0.92685694]], b : [0.08439939], loss : 8.413019180297852\n"
     ]
    }
   ],
   "source": [
    "# Q1, Q2, Q3, Exam 예제를 이용해서\n",
    "# Tensorflow를 사용해서 Multiple Linear Regression을 구현해보자!\n",
    "import tensorflow as tf\n",
    "import pandas as pd\n",
    "import numpy as np\n",
    "\n",
    "# Raq Data Loading\n",
    "df = pd.read_csv('../data/student_exam_score.csv')\n",
    "# display(df.head())\n",
    "\n",
    "# 결측치 없고, 이상치 없고, 정규화 필요 없다.\n",
    "# 데이터 전처리 안한다.\n",
    "\n",
    "# Training Data Set\n",
    "x_data = df.drop('exam', axis=1, inplace=False)   # (25, 3)\n",
    "t_data = df['exam'].values.reshape(-1,1)   # (25, 1)\n",
    "\n",
    "# Prediction\n",
    "predict_data = np.array([[90, 100, 95]])   # (1, 3)\n",
    "\n",
    "# Placeholder\n",
    "X = tf.placeholder(shape=[None,3], dtype=tf.float32)\n",
    "T = tf.placeholder(shape=[None,1], dtype=tf.float32)\n",
    "# shape을 명시할 때 ()가 아닌 []를 사용한다.\n",
    "\n",
    "# Weight, bias\n",
    "# 변수노드 => 안의 값이 계속 변할 수 있는 노드\n",
    "# W는 어떤 형태여야 하나요? => (3, 1) 형태여야 하고 랜덤하게 생성\n",
    "W = tf.Variable(tf.random.normal([3, 1]))   # 표준정규분포에서 난수를 추출\n",
    "b = tf.Variable(tf.random.normal([1]))\n",
    "\n",
    "# model(hypothesis, 가설, predict model)   # y = Wx + b  => XW + b\n",
    "H = tf.matmul(X, W) + b   # Tensorflow가 제공하는 행렬 곱 함수\n",
    "\n",
    "# loss function\n",
    "loss = tf.reduce_mean(tf.square(H - T))   # 평균제곱오차\n",
    "\n",
    "# train node를 생성해야 한다!\n",
    "train = tf.train.GradientDescentOptimizer(learning_rate=1e-7).minimize(loss)\n",
    "# GradientDescent 알고리즘을 진행하는 주체를 만든다\n",
    "# learning_rate를 인자로 주고 minimize 메서드에 편미분할 노드를 인자로 넣는다.\n",
    "# 학습을 단 1번 실행한다.\n",
    "\n",
    "# Session을 생성하고 초기화를 진행\n",
    "sess = tf.Session()\n",
    "sess.run(tf.global_variables_initializer()) # 초기화 구문.\n",
    "# (그래프를 실행하기 전에 먼저 실행되어야 한다.)\n",
    "# tf.Variable을 사용하면 반드시 초기화를 해줘야 한다.\n",
    "\n",
    "# 반복 학습\n",
    "for step in range(300000):\n",
    "    \n",
    "    # Placeholder로 선언된 값에 먹이를 줘야한다.\n",
    "    _, W_val, b_val, loss_val = sess.run([train, W, b, loss],\n",
    "                                         feed_dict={X: x_data,\n",
    "                                                    T: t_data})\n",
    "    if step % 30000 == 0:\n",
    "        print('W : {}, b : {}, loss : {}'.format(W_val, b_val, loss_val))\n",
    "        \n",
    "        "
   ]
  },
  {
   "cell_type": "code",
   "execution_count": 8,
   "id": "c2243316",
   "metadata": {},
   "outputs": [
    {
     "name": "stdout",
     "output_type": "stream",
     "text": [
      "[[189.7412]]\n"
     ]
    }
   ],
   "source": [
    "# Prediction\n",
    "\n",
    "result = sess.run(H,\n",
    "                  feed_dict={X: np.array([[89, 100, 95]])})\n",
    "print(result)"
   ]
  }
 ],
 "metadata": {
  "kernelspec": {
   "display_name": "Python [conda env:machine_TF15] *",
   "language": "python",
   "name": "conda-env-machine_TF15-py"
  },
  "language_info": {
   "codemirror_mode": {
    "name": "ipython",
    "version": 3
   },
   "file_extension": ".py",
   "mimetype": "text/x-python",
   "name": "python",
   "nbconvert_exporter": "python",
   "pygments_lexer": "ipython3",
   "version": "3.7.13"
  }
 },
 "nbformat": 4,
 "nbformat_minor": 5
}
